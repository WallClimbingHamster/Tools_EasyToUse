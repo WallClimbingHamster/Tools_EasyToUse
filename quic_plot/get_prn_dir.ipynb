{
 "cells": [
  {
   "cell_type": "code",
   "execution_count": 1,
   "id": "ab4bb3d7-8f31-4d0d-a14b-718e5e7e989b",
   "metadata": {},
   "outputs": [],
   "source": [
    "# thin from 1mm to 5mm , step 0.1mm ;\n",
    "# deal vu into a xls ;\n",
    "# to origin plot"
   ]
  },
  {
   "cell_type": "code",
   "execution_count": 102,
   "id": "e8f02abd-ba6d-44d6-b493-9a1e376a5295",
   "metadata": {},
   "outputs": [],
   "source": [
    "import os \n",
    "from RL_calculate import *\n",
    "from value import *\n",
    "\n"
   ]
  },
  {
   "cell_type": "code",
   "execution_count": 103,
   "id": "d9ddeeba-3498-45c4-942a-de58ff0c1dfe",
   "metadata": {},
   "outputs": [
    {
     "name": "stdout",
     "output_type": "stream",
     "text": [
      "  4           0 LOAD_GLOBAL              0 (os)\n",
      "              2 LOAD_METHOD              1 (listdir)\n",
      "              4 LOAD_FAST                0 (path)\n",
      "              6 CALL_METHOD              1\n",
      "              8 STORE_FAST               1 (listdir)\n",
      "\n",
      "  5          10 BUILD_LIST               0\n",
      "             12 STORE_FAST               2 (prn_list)\n",
      "\n",
      "  6          14 LOAD_FAST                1 (listdir)\n",
      "             16 GET_ITER\n",
      "        >>   18 FOR_ITER                19 (to 58)\n",
      "             20 STORE_FAST               3 (i)\n",
      "\n",
      "  8          22 LOAD_FAST                3 (i)\n",
      "             24 LOAD_CONST               1 (-4)\n",
      "             26 LOAD_CONST               0 (None)\n",
      "             28 BUILD_SLICE              2\n",
      "             30 BINARY_SUBSCR\n",
      "             32 LOAD_CONST               2 ('.prn')\n",
      "             34 COMPARE_OP               2 (==)\n",
      "             36 POP_JUMP_IF_FALSE       28 (to 56)\n",
      "\n",
      "  9          38 LOAD_FAST                2 (prn_list)\n",
      "             40 LOAD_METHOD              2 (append)\n",
      "             42 LOAD_FAST                0 (path)\n",
      "             44 LOAD_CONST               3 ('/')\n",
      "             46 BINARY_ADD\n",
      "             48 LOAD_FAST                3 (i)\n",
      "             50 BINARY_ADD\n",
      "             52 CALL_METHOD              1\n",
      "             54 POP_TOP\n",
      "        >>   56 JUMP_ABSOLUTE            9 (to 18)\n",
      "\n",
      " 10     >>   58 LOAD_FAST                2 (prn_list)\n",
      "             60 RETURN_VALUE\n"
     ]
    },
    {
     "ename": "NameError",
     "evalue": "name 'args' is not defined",
     "output_type": "error",
     "traceback": [
      "\u001b[1;31m---------------------------------------------------------------------------\u001b[0m",
      "\u001b[1;31mNameError\u001b[0m                                 Traceback (most recent call last)",
      "Input \u001b[1;32mIn [103]\u001b[0m, in \u001b[0;36m<module>\u001b[1;34m\u001b[0m\n\u001b[0;32m      1\u001b[0m \u001b[38;5;66;03m#活动 prn 文件列表   path << cmd 可以直接拖拽文件夹\u001b[39;00m\n\u001b[0;32m      2\u001b[0m \u001b[38;5;129;43m@disfunc\u001b[39;49m\n\u001b[1;32m----> 3\u001b[0m \u001b[38;5;28;43;01mdef\u001b[39;49;00m\u001b[43m \u001b[49m\u001b[38;5;21;43mget_prn_dir\u001b[39;49m\u001b[43m(\u001b[49m\u001b[43mpath\u001b[49m\u001b[43m)\u001b[49m\u001b[43m:\u001b[49m\n\u001b[0;32m      4\u001b[0m \u001b[43m    \u001b[49m\u001b[43mlistdir\u001b[49m\u001b[43m \u001b[49m\u001b[38;5;241;43m=\u001b[39;49m\u001b[43m \u001b[49m\u001b[43mos\u001b[49m\u001b[38;5;241;43m.\u001b[39;49m\u001b[43mlistdir\u001b[49m\u001b[43m(\u001b[49m\u001b[43mpath\u001b[49m\u001b[43m)\u001b[49m\n\u001b[0;32m      5\u001b[0m \u001b[43m    \u001b[49m\u001b[43mprn_list\u001b[49m\u001b[43m \u001b[49m\u001b[38;5;241;43m=\u001b[39;49m\u001b[43m \u001b[49m\u001b[43m[\u001b[49m\u001b[43m]\u001b[49m\n",
      "Input \u001b[1;32mIn [102]\u001b[0m, in \u001b[0;36mdisfunc\u001b[1;34m(func)\u001b[0m\n\u001b[0;32m     10\u001b[0m     a \u001b[38;5;241m=\u001b[39m func(\u001b[38;5;241m*\u001b[39margs, \u001b[38;5;241m*\u001b[39m\u001b[38;5;241m*\u001b[39mkwargs)\n\u001b[0;32m     11\u001b[0m     \u001b[38;5;28;01mreturn\u001b[39;00m a\n\u001b[1;32m---> 12\u001b[0m b \u001b[38;5;241m=\u001b[39m runfunc(\u001b[38;5;241m*\u001b[39m\u001b[43margs\u001b[49m, \u001b[38;5;241m*\u001b[39m\u001b[38;5;241m*\u001b[39mkwargs)\n\u001b[0;32m     13\u001b[0m \u001b[38;5;28;01mreturn\u001b[39;00m b\n",
      "\u001b[1;31mNameError\u001b[0m: name 'args' is not defined"
     ]
    }
   ],
   "source": [
    "#活动 prn 文件列表   path << cmd 可以直接拖拽文件夹\n",
    "def get_prn_dir(path):\n",
    "    listdir = os.listdir(path)\n",
    "    prn_list = []\n",
    "    for i in listdir:\n",
    "        #print(i[-4:])\n",
    "        if i[-4:] == r'.prn':\n",
    "            prn_list.append(path + r'/' +  i)\n",
    "    return prn_list\n",
    "    \n",
    "\n",
    "#path << cmd 可以直接拖拽文件夹\n",
    "def get_prn_folder_path():\n",
    "    PATH = input(r'拖拽放置prn的文件夹： ')\n",
    "    return PATH\n",
    "\n",
    "def get_d():\n",
    "    d = input(r'输入厚度，d = ?mm ')\n",
    "    return float(d)\n"
   ]
  }
 ],
 "metadata": {
  "kernelspec": {
   "display_name": "Python 3 (ipykernel)",
   "language": "python",
   "name": "python3"
  },
  "language_info": {
   "codemirror_mode": {
    "name": "ipython",
    "version": 3
   },
   "file_extension": ".py",
   "mimetype": "text/x-python",
   "name": "python",
   "nbconvert_exporter": "python",
   "pygments_lexer": "ipython3",
   "version": "3.10.2"
  }
 },
 "nbformat": 4,
 "nbformat_minor": 5
}
