{
 "cells": [
  {
   "cell_type": "code",
   "execution_count": null,
   "id": "3acacb30-3db3-498d-815e-d2c7ae087119",
   "metadata": {},
   "outputs": [],
   "source": [
    "path = r'./'\n",
    "pi = 3.1415926\n",
    "\n",
    "input_dir = r''\n",
    "output_dir = r''\n",
    "\n"
   ]
  }
 ],
 "metadata": {
  "kernelspec": {
   "display_name": "Python 3 (ipykernel)",
   "language": "python",
   "name": "python3"
  },
  "language_info": {
   "codemirror_mode": {
    "name": "ipython",
    "version": 3
   },
   "file_extension": ".py",
   "mimetype": "text/x-python",
   "name": "python",
   "nbconvert_exporter": "python",
   "pygments_lexer": "ipython3",
   "version": "3.10.2"
  }
 },
 "nbformat": 4,
 "nbformat_minor": 5
}
