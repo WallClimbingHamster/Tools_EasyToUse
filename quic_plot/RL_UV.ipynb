{
 "cells": [
  {
   "cell_type": "code",
   "execution_count": 25,
   "id": "6ba21bf4-cb88-478b-b54f-33592e56c14a",
   "metadata": {},
   "outputs": [],
   "source": [
    "import xlwt\n",
    "from get_prn_dir import *\n",
    "from value import *\n",
    "import numpy as np"
   ]
  },
  {
   "cell_type": "code",
   "execution_count": 65,
   "id": "30b8bb85-e300-45b0-9d6b-7a9abb8dfcac",
   "metadata": {},
   "outputs": [
    {
     "name": "stdin",
     "output_type": "stream",
     "text": [
      "拖拽放置prn的文件夹：  E:\\Python\\矢网测量数据_2022-01-13\n"
     ]
    }
   ],
   "source": [
    "A = get_prn_folder_path()\n",
    "B = get_prn_dir(A)\n",
    "\n",
    "#   E:\\Python\\矢网测量数据_2022-01-13\n",
    "#write FREQUENCY in first cloum\n",
    "# write RL in one excel\n",
    "for i in B:\n",
    "    # i === filename\n",
    "    #i[:-4] === name  + _RL.xls  \n",
    "    filename = i[:-4] + r'_RL.xls'\n",
    "    \n",
    "    \n",
    "    FREQUENCY = prn_read(i)[:,0] / 10e8 # 1--20\n",
    "    FREQUENCY_LIST = FREQUENCY.tolist() # to list form\n",
    "    \n",
    "    # create a excel\n",
    "    workBook = xlwt.Workbook(\"UTF-8\")\n",
    "    oneWorkSheet = workBook.add_sheet(\"sheet1\")\n",
    "    oneWorkSheet.write(0, 0, \"frequency\")\n",
    "    for o in range(len(FREQUENCY_LIST)):\n",
    "        oneWorkSheet.write(o + 1,0,FREQUENCY_LIST[o])\n",
    "    \n",
    "                                      \n",
    "    for d in np.arange(10,50,1):  # d = \n",
    "        RL = compute_RL(i,d/10,pi)\n",
    "        RL = RL.tolist()\n",
    "        for p in range(len(RL)):\n",
    "            oneWorkSheet.write(p + 1,d-9,RL[p])\n",
    "        oneWorkSheet.write(0,d-9, r'd='+ str(d/10) + r'mm')\n",
    "    workBook.save(filename)\n",
    "    print(filename + r'  done')\n",
    "    \n",
    "    \n",
    "    \n",
    "    filename2 = i[:-4] + r'_UV.xls'\n",
    "    workBook2 = xlwt.Workbook(\"UTF-8\")\n",
    "    oneWorkSheet2 = workBook2.add_sheet(\"sheet1\")\n",
    "    #oneWorkSheet2.write(0, 0, \"frequency\")\n",
    "    with open(i) as f:\n",
    "        csv_prn = []\n",
    "        prn_data = csv.reader(f)\n",
    "        for b in prn_data:\n",
    "            if b == []:\n",
    "                continue\n",
    "            else:\n",
    "                csv_prn.append(b[0].split())\n",
    "    for q in range(len(csv_prn[0])):   #col\n",
    "        for w in range(len(csv_prn)):  #row\n",
    "            if w == 0:\n",
    "                oneWorkSheet2.write(w,q,csv_prn[w][q])\n",
    "            elif q ==0 :\n",
    "                oneWorkSheet2.write(w,q,float(csv_prn[w][q])/10e8)\n",
    "            else:\n",
    "                oneWorkSheet2.write(w,q,float(csv_prn[w][q]))\n",
    "    workBook2.save(filename2)\n",
    "    print(filename + r'  done')"
   ]
  },
  {
   "cell_type": "code",
   "execution_count": 62,
   "id": "c49c9c14-59ff-49f4-af74-a958d4df500a",
   "metadata": {},
   "outputs": [
    {
     "data": {
      "text/plain": [
       "['frequency', \"e'\", \"e''\", \"u'\", \"u''\"]"
      ]
     },
     "execution_count": 62,
     "metadata": {},
     "output_type": "execute_result"
    }
   ],
   "source": [
    "input(r'press anter to close')"
   ]
  },
  {
   "cell_type": "code",
   "execution_count": null,
   "id": "d9f03521-cd13-4469-bfaf-f7085fc602f0",
   "metadata": {},
   "outputs": [],
   "source": []
  }
 ],
 "metadata": {
  "kernelspec": {
   "display_name": "Python 3 (ipykernel)",
   "language": "python",
   "name": "python3"
  },
  "language_info": {
   "codemirror_mode": {
    "name": "ipython",
    "version": 3
   },
   "file_extension": ".py",
   "mimetype": "text/x-python",
   "name": "python",
   "nbconvert_exporter": "python",
   "pygments_lexer": "ipython3",
   "version": "3.10.2"
  }
 },
 "nbformat": 4,
 "nbformat_minor": 5
}
